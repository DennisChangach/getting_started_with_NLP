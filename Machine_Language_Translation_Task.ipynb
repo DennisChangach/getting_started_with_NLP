{
  "nbformat": 4,
  "nbformat_minor": 0,
  "metadata": {
    "colab": {
      "provenance": [],
      "authorship_tag": "ABX9TyP2KMfNggCkcx3ZM5N8YErt",
      "include_colab_link": true
    },
    "kernelspec": {
      "name": "python3",
      "display_name": "Python 3"
    },
    "language_info": {
      "name": "python"
    }
  },
  "cells": [
    {
      "cell_type": "markdown",
      "metadata": {
        "id": "view-in-github",
        "colab_type": "text"
      },
      "source": [
        "<a href=\"https://colab.research.google.com/github/DennisChangach/getting_started_with_NLP/blob/main/Machine_Language_Translation_Task.ipynb\" target=\"_parent\"><img src=\"https://colab.research.google.com/assets/colab-badge.svg\" alt=\"Open In Colab\"/></a>"
      ]
    },
    {
      "cell_type": "markdown",
      "source": [
        "# Machine Language Transalation"
      ],
      "metadata": {
        "id": "B1rUkIS1noqk"
      }
    },
    {
      "cell_type": "markdown",
      "source": [
        "This example demonstrates how to implement a basic character-level recurrent sequence-to-sequence model. We apply it to translating short English sentences into short French sentences, character-by-character. Note that it is fairly unusual to do character-level machine translation, as word-level models are more common in this domain.\n",
        "\n",
        "https://keras.io/examples/nlp/lstm_seq2seq/\n",
        "\n",
        "**Summary of the algorithm**\n",
        "\n",
        "- We start with input sequences from a domain (e.g. English sentences) and corresponding target sequences from another domain (e.g. French sentences).\n",
        "- An encoder LSTM turns input sequences to 2 state vectors (we keep the last LSTM state and discard the outputs).\n",
        "- A decoder LSTM is trained to turn the target sequences into the same sequence but offset by one timestep in the future, a training process called \"teacher forcing\" in this context. It uses as initial state the state vectors from the encoder. Effectively, the decoder learns to generate targets[t+1...] given targets[...t], conditioned on the input sequence.\n",
        "- In inference mode, when we want to decode unknown input sequences, we: - Encode the input sequence into state vectors - Start with a target sequence of size 1 (just the start-of-sequence character) - Feed the state vectors and 1-char target sequence to the decoder to produce predictions for the next character - Sample the next character using these predictions (we simply use argmax). - Append the sampled character to the target sequence - Repeat until we generate the end-of-sequence character or we hit the character limit."
      ],
      "metadata": {
        "id": "M7qx-1R5nzAC"
      }
    },
    {
      "cell_type": "code",
      "execution_count": 1,
      "metadata": {
        "id": "z9Sheaj0m3ld"
      },
      "outputs": [],
      "source": [
        "import numpy as np\n",
        "import keras\n",
        "import os\n",
        "from pathlib import Path"
      ]
    },
    {
      "cell_type": "markdown",
      "source": [
        "## Prepare Data"
      ],
      "metadata": {
        "id": "roNQO7hQqQys"
      }
    },
    {
      "cell_type": "code",
      "source": [
        "#Configuration\n",
        "batch_size = 64  # Batch size for training.\n",
        "epochs = 100  # Number of epochs to train for.\n",
        "latent_dim = 256  # Latent dimensionality of the encoding space.\n",
        "num_samples = 10000  # Number of samples to train on.\n",
        "data_path = 'fra.txt'"
      ],
      "metadata": {
        "id": "hZEedBbkokAz"
      },
      "execution_count": 4,
      "outputs": []
    },
    {
      "cell_type": "code",
      "source": [
        "# Vectorize the data.\n",
        "input_texts = []\n",
        "target_texts = []\n",
        "input_characters = set()\n",
        "target_characters = set()\n",
        "with open(data_path, \"r\", encoding=\"utf-8\") as f:\n",
        "    lines = f.read().split(\"\\n\")\n",
        "for line in lines[: min(num_samples, len(lines) - 1)]:\n",
        "    input_text, target_text, _ = line.split(\"\\t\")\n",
        "    # We use \"tab\" as the \"start sequence\" character\n",
        "    # for the targets, and \"\\n\" as \"end sequence\" character.\n",
        "    target_text = \"\\t\" + target_text + \"\\n\"\n",
        "    input_texts.append(input_text)\n",
        "    target_texts.append(target_text)\n",
        "    for char in input_text:\n",
        "        if char not in input_characters:\n",
        "            input_characters.add(char)\n",
        "    for char in target_text:\n",
        "        if char not in target_characters:\n",
        "            target_characters.add(char)\n",
        "\n",
        "input_characters = sorted(list(input_characters))\n",
        "target_characters = sorted(list(target_characters))\n",
        "num_encoder_tokens = len(input_characters)\n",
        "num_decoder_tokens = len(target_characters)\n",
        "max_encoder_seq_length = max([len(txt) for txt in input_texts])\n",
        "max_decoder_seq_length = max([len(txt) for txt in target_texts])\n",
        "\n",
        "print(\"Number of samples:\", len(input_texts))\n",
        "print(\"Number of unique input tokens:\", num_encoder_tokens)\n",
        "print(\"Number of unique output tokens:\", num_decoder_tokens)\n",
        "print(\"Max sequence length for inputs:\", max_encoder_seq_length)\n",
        "print(\"Max sequence length for outputs:\", max_decoder_seq_length)"
      ],
      "metadata": {
        "colab": {
          "base_uri": "https://localhost:8080/"
        },
        "id": "pnxZjwpynns5",
        "outputId": "a6265a9f-4b46-4448-ca43-7a1232b64a25"
      },
      "execution_count": 5,
      "outputs": [
        {
          "output_type": "stream",
          "name": "stdout",
          "text": [
            "Number of samples: 10000\n",
            "Number of unique input tokens: 70\n",
            "Number of unique output tokens: 91\n",
            "Max sequence length for inputs: 14\n",
            "Max sequence length for outputs: 59\n"
          ]
        }
      ]
    },
    {
      "cell_type": "code",
      "source": [
        "input_texts[0]"
      ],
      "metadata": {
        "colab": {
          "base_uri": "https://localhost:8080/",
          "height": 35
        },
        "id": "OUCUJctfsX0T",
        "outputId": "1b39afc2-bb98-439a-9720-c0201fa8d536"
      },
      "execution_count": 8,
      "outputs": [
        {
          "output_type": "execute_result",
          "data": {
            "text/plain": [
              "'Go.'"
            ],
            "application/vnd.google.colaboratory.intrinsic+json": {
              "type": "string"
            }
          },
          "metadata": {},
          "execution_count": 8
        }
      ]
    },
    {
      "cell_type": "code",
      "source": [
        "#Assigning Tokens\n",
        "input_token_index = dict([(char, i) for i, char in enumerate(input_characters)])\n",
        "target_token_index = dict([(char, i) for i, char in enumerate(target_characters)])\n",
        "\n",
        "#One Hot Representation of the input data\n",
        "encoder_input_data = np.zeros(\n",
        "    (len(input_texts), max_encoder_seq_length, num_encoder_tokens),\n",
        "    dtype=\"float32\",\n",
        ")\n",
        "decoder_input_data = np.zeros(\n",
        "    (len(input_texts), max_decoder_seq_length, num_decoder_tokens),\n",
        "    dtype=\"float32\",\n",
        ")\n",
        "decoder_target_data = np.zeros(\n",
        "    (len(input_texts), max_decoder_seq_length, num_decoder_tokens),\n",
        "    dtype=\"float32\",\n",
        ")\n",
        "\n",
        "for i, (input_text, target_text) in enumerate(zip(input_texts, target_texts)):\n",
        "    for t, char in enumerate(input_text):\n",
        "        encoder_input_data[i, t, input_token_index[char]] = 1.0\n",
        "    encoder_input_data[i, t + 1 :, input_token_index[\" \"]] = 1.0\n",
        "    for t, char in enumerate(target_text):\n",
        "        # decoder_target_data is ahead of decoder_input_data by one timestep\n",
        "        decoder_input_data[i, t, target_token_index[char]] = 1.0\n",
        "        if t > 0:\n",
        "            # decoder_target_data will be ahead by one timestep\n",
        "            # and will not include the start character.\n",
        "            decoder_target_data[i, t - 1, target_token_index[char]] = 1.0\n",
        "    decoder_input_data[i, t + 1 :, target_token_index[\" \"]] = 1.0\n",
        "    decoder_target_data[i, t:, target_token_index[\" \"]] = 1.0"
      ],
      "metadata": {
        "id": "gXE67QlYnnqS"
      },
      "execution_count": 9,
      "outputs": []
    },
    {
      "cell_type": "markdown",
      "source": [
        "## Building the Model"
      ],
      "metadata": {
        "id": "mvm42fn1siIz"
      }
    },
    {
      "cell_type": "code",
      "source": [
        "# Define an input sequence and process it.\n",
        "encoder_inputs = keras.Input(shape=(None, num_encoder_tokens))\n",
        "encoder = keras.layers.LSTM(latent_dim, return_state=True)\n",
        "encoder_outputs, state_h, state_c = encoder(encoder_inputs)\n",
        "\n",
        "# We discard `encoder_outputs` and only keep the states.\n",
        "encoder_states = [state_h, state_c]\n",
        "\n",
        "# Set up the decoder, using `encoder_states` as initial state.\n",
        "decoder_inputs = keras.Input(shape=(None, num_decoder_tokens))\n",
        "\n",
        "# We set up our decoder to return full output sequences,\n",
        "# and to return internal states as well. We don't use the\n",
        "# return states in the training model, but we will use them in inference.\n",
        "decoder_lstm = keras.layers.LSTM(latent_dim, return_sequences=True, return_state=True)\n",
        "decoder_outputs, _, _ = decoder_lstm(decoder_inputs, initial_state=encoder_states)\n",
        "decoder_dense = keras.layers.Dense(num_decoder_tokens, activation=\"softmax\")\n",
        "decoder_outputs = decoder_dense(decoder_outputs)\n",
        "\n",
        "# Define the model that will turn\n",
        "# `encoder_input_data` & `decoder_input_data` into `decoder_target_data`\n",
        "model = keras.Model([encoder_inputs, decoder_inputs], decoder_outputs)"
      ],
      "metadata": {
        "id": "0UfkCLnmnnn6"
      },
      "execution_count": 10,
      "outputs": []
    },
    {
      "cell_type": "markdown",
      "source": [
        "## Training the Model"
      ],
      "metadata": {
        "id": "jUuvfOLUtPrD"
      }
    },
    {
      "cell_type": "code",
      "source": [
        "model.compile(\n",
        "    optimizer=\"rmsprop\", loss=\"categorical_crossentropy\", metrics=[\"accuracy\"]\n",
        ")\n",
        "model.fit(\n",
        "    [encoder_input_data, decoder_input_data],\n",
        "    decoder_target_data,\n",
        "    batch_size=batch_size,\n",
        "    epochs=epochs,\n",
        "    validation_split=0.2,\n",
        ")\n",
        "# Save model\n",
        "model.save(\"s2s_model.keras\")"
      ],
      "metadata": {
        "colab": {
          "base_uri": "https://localhost:8080/"
        },
        "id": "hkaHvgq5nnjd",
        "outputId": "347fad86-dc20-4a30-d215-40ee85ff3c45"
      },
      "execution_count": 11,
      "outputs": [
        {
          "output_type": "stream",
          "name": "stdout",
          "text": [
            "Epoch 1/100\n",
            "125/125 [==============================] - 58s 434ms/step - loss: 1.2130 - accuracy: 0.7336 - val_loss: 1.0748 - val_accuracy: 0.7130\n",
            "Epoch 2/100\n",
            "125/125 [==============================] - 58s 467ms/step - loss: 0.9365 - accuracy: 0.7478 - val_loss: 0.9773 - val_accuracy: 0.7169\n",
            "Epoch 3/100\n",
            "125/125 [==============================] - 57s 459ms/step - loss: 0.8509 - accuracy: 0.7652 - val_loss: 0.9111 - val_accuracy: 0.7443\n",
            "Epoch 4/100\n",
            "125/125 [==============================] - 50s 404ms/step - loss: 0.7517 - accuracy: 0.7895 - val_loss: 0.7906 - val_accuracy: 0.7688\n",
            "Epoch 5/100\n",
            "125/125 [==============================] - 52s 417ms/step - loss: 0.6759 - accuracy: 0.8060 - val_loss: 0.7247 - val_accuracy: 0.7880\n",
            "Epoch 6/100\n",
            "125/125 [==============================] - 49s 395ms/step - loss: 0.6309 - accuracy: 0.8163 - val_loss: 0.6821 - val_accuracy: 0.8032\n",
            "Epoch 7/100\n",
            "125/125 [==============================] - 48s 383ms/step - loss: 0.6010 - accuracy: 0.8244 - val_loss: 0.6580 - val_accuracy: 0.8071\n",
            "Epoch 8/100\n",
            "125/125 [==============================] - 49s 396ms/step - loss: 0.5771 - accuracy: 0.8308 - val_loss: 0.6336 - val_accuracy: 0.8141\n",
            "Epoch 9/100\n",
            "125/125 [==============================] - 50s 397ms/step - loss: 0.5559 - accuracy: 0.8361 - val_loss: 0.6184 - val_accuracy: 0.8198\n",
            "Epoch 10/100\n",
            "125/125 [==============================] - 50s 401ms/step - loss: 0.5373 - accuracy: 0.8417 - val_loss: 0.6030 - val_accuracy: 0.8240\n",
            "Epoch 11/100\n",
            "125/125 [==============================] - 49s 391ms/step - loss: 0.5200 - accuracy: 0.8469 - val_loss: 0.5797 - val_accuracy: 0.8317\n",
            "Epoch 12/100\n",
            "125/125 [==============================] - 50s 399ms/step - loss: 0.5045 - accuracy: 0.8519 - val_loss: 0.5680 - val_accuracy: 0.8343\n",
            "Epoch 13/100\n",
            "125/125 [==============================] - 48s 383ms/step - loss: 0.4911 - accuracy: 0.8557 - val_loss: 0.5566 - val_accuracy: 0.8389\n",
            "Epoch 14/100\n",
            "125/125 [==============================] - 51s 409ms/step - loss: 0.4782 - accuracy: 0.8597 - val_loss: 0.5508 - val_accuracy: 0.8389\n",
            "Epoch 15/100\n",
            "125/125 [==============================] - 50s 396ms/step - loss: 0.4667 - accuracy: 0.8624 - val_loss: 0.5375 - val_accuracy: 0.8420\n",
            "Epoch 16/100\n",
            "125/125 [==============================] - 49s 394ms/step - loss: 0.4562 - accuracy: 0.8658 - val_loss: 0.5324 - val_accuracy: 0.8447\n",
            "Epoch 17/100\n",
            "125/125 [==============================] - 48s 381ms/step - loss: 0.4469 - accuracy: 0.8683 - val_loss: 0.5269 - val_accuracy: 0.8453\n",
            "Epoch 18/100\n",
            "125/125 [==============================] - 49s 391ms/step - loss: 0.4374 - accuracy: 0.8708 - val_loss: 0.5128 - val_accuracy: 0.8499\n",
            "Epoch 19/100\n",
            "125/125 [==============================] - 49s 393ms/step - loss: 0.4286 - accuracy: 0.8734 - val_loss: 0.5072 - val_accuracy: 0.8516\n",
            "Epoch 20/100\n",
            "125/125 [==============================] - 47s 378ms/step - loss: 0.4205 - accuracy: 0.8756 - val_loss: 0.5053 - val_accuracy: 0.8523\n",
            "Epoch 21/100\n",
            "125/125 [==============================] - 49s 395ms/step - loss: 0.4122 - accuracy: 0.8779 - val_loss: 0.4972 - val_accuracy: 0.8545\n",
            "Epoch 22/100\n",
            "125/125 [==============================] - 49s 391ms/step - loss: 0.4053 - accuracy: 0.8799 - val_loss: 0.4913 - val_accuracy: 0.8552\n",
            "Epoch 23/100\n",
            "125/125 [==============================] - 48s 388ms/step - loss: 0.3985 - accuracy: 0.8816 - val_loss: 0.4861 - val_accuracy: 0.8566\n",
            "Epoch 24/100\n",
            "125/125 [==============================] - 47s 379ms/step - loss: 0.3912 - accuracy: 0.8834 - val_loss: 0.4869 - val_accuracy: 0.8579\n",
            "Epoch 25/100\n",
            "125/125 [==============================] - 49s 389ms/step - loss: 0.3850 - accuracy: 0.8855 - val_loss: 0.4786 - val_accuracy: 0.8599\n",
            "Epoch 26/100\n",
            "125/125 [==============================] - 49s 396ms/step - loss: 0.3784 - accuracy: 0.8878 - val_loss: 0.4756 - val_accuracy: 0.8598\n",
            "Epoch 27/100\n",
            "125/125 [==============================] - 50s 404ms/step - loss: 0.3723 - accuracy: 0.8892 - val_loss: 0.4716 - val_accuracy: 0.8612\n",
            "Epoch 28/100\n",
            "125/125 [==============================] - 51s 406ms/step - loss: 0.3669 - accuracy: 0.8906 - val_loss: 0.4756 - val_accuracy: 0.8602\n",
            "Epoch 29/100\n",
            "125/125 [==============================] - 50s 402ms/step - loss: 0.3611 - accuracy: 0.8922 - val_loss: 0.4655 - val_accuracy: 0.8630\n",
            "Epoch 30/100\n",
            "125/125 [==============================] - 51s 406ms/step - loss: 0.3554 - accuracy: 0.8942 - val_loss: 0.4589 - val_accuracy: 0.8655\n",
            "Epoch 31/100\n",
            "125/125 [==============================] - 50s 399ms/step - loss: 0.3499 - accuracy: 0.8959 - val_loss: 0.4628 - val_accuracy: 0.8643\n",
            "Epoch 32/100\n",
            "125/125 [==============================] - 49s 391ms/step - loss: 0.3446 - accuracy: 0.8974 - val_loss: 0.4575 - val_accuracy: 0.8663\n",
            "Epoch 33/100\n",
            "125/125 [==============================] - 49s 394ms/step - loss: 0.3390 - accuracy: 0.8989 - val_loss: 0.4561 - val_accuracy: 0.8661\n",
            "Epoch 34/100\n",
            "125/125 [==============================] - 50s 404ms/step - loss: 0.3346 - accuracy: 0.9002 - val_loss: 0.4540 - val_accuracy: 0.8673\n",
            "Epoch 35/100\n",
            "125/125 [==============================] - 50s 402ms/step - loss: 0.3299 - accuracy: 0.9018 - val_loss: 0.4509 - val_accuracy: 0.8680\n",
            "Epoch 36/100\n",
            "125/125 [==============================] - 50s 400ms/step - loss: 0.3249 - accuracy: 0.9034 - val_loss: 0.4481 - val_accuracy: 0.8698\n",
            "Epoch 37/100\n",
            "125/125 [==============================] - 48s 386ms/step - loss: 0.3200 - accuracy: 0.9048 - val_loss: 0.4491 - val_accuracy: 0.8694\n",
            "Epoch 38/100\n",
            "125/125 [==============================] - 54s 436ms/step - loss: 0.3155 - accuracy: 0.9062 - val_loss: 0.4445 - val_accuracy: 0.8702\n",
            "Epoch 39/100\n",
            "125/125 [==============================] - 49s 395ms/step - loss: 0.3106 - accuracy: 0.9076 - val_loss: 0.4461 - val_accuracy: 0.8711\n",
            "Epoch 40/100\n",
            "125/125 [==============================] - 50s 399ms/step - loss: 0.3062 - accuracy: 0.9089 - val_loss: 0.4454 - val_accuracy: 0.8716\n",
            "Epoch 41/100\n",
            "125/125 [==============================] - 49s 394ms/step - loss: 0.3018 - accuracy: 0.9103 - val_loss: 0.4434 - val_accuracy: 0.8720\n",
            "Epoch 42/100\n",
            "125/125 [==============================] - 48s 386ms/step - loss: 0.2979 - accuracy: 0.9110 - val_loss: 0.4390 - val_accuracy: 0.8735\n",
            "Epoch 43/100\n",
            "125/125 [==============================] - 50s 401ms/step - loss: 0.2936 - accuracy: 0.9123 - val_loss: 0.4409 - val_accuracy: 0.8734\n",
            "Epoch 44/100\n",
            "125/125 [==============================] - 49s 393ms/step - loss: 0.2895 - accuracy: 0.9137 - val_loss: 0.4425 - val_accuracy: 0.8726\n",
            "Epoch 45/100\n",
            "125/125 [==============================] - 51s 405ms/step - loss: 0.2847 - accuracy: 0.9150 - val_loss: 0.4408 - val_accuracy: 0.8734\n",
            "Epoch 46/100\n",
            "125/125 [==============================] - 49s 391ms/step - loss: 0.2812 - accuracy: 0.9160 - val_loss: 0.4412 - val_accuracy: 0.8745\n",
            "Epoch 47/100\n",
            "125/125 [==============================] - 51s 409ms/step - loss: 0.2772 - accuracy: 0.9172 - val_loss: 0.4395 - val_accuracy: 0.8747\n",
            "Epoch 48/100\n",
            "125/125 [==============================] - 51s 407ms/step - loss: 0.2731 - accuracy: 0.9183 - val_loss: 0.4424 - val_accuracy: 0.8745\n",
            "Epoch 49/100\n",
            "125/125 [==============================] - 53s 423ms/step - loss: 0.2698 - accuracy: 0.9194 - val_loss: 0.4384 - val_accuracy: 0.8750\n",
            "Epoch 50/100\n",
            "125/125 [==============================] - 52s 418ms/step - loss: 0.2657 - accuracy: 0.9204 - val_loss: 0.4420 - val_accuracy: 0.8748\n",
            "Epoch 51/100\n",
            "125/125 [==============================] - 50s 396ms/step - loss: 0.2620 - accuracy: 0.9217 - val_loss: 0.4421 - val_accuracy: 0.8743\n",
            "Epoch 52/100\n",
            "125/125 [==============================] - 49s 393ms/step - loss: 0.2583 - accuracy: 0.9227 - val_loss: 0.4408 - val_accuracy: 0.8754\n",
            "Epoch 53/100\n",
            "125/125 [==============================] - 50s 397ms/step - loss: 0.2548 - accuracy: 0.9236 - val_loss: 0.4439 - val_accuracy: 0.8745\n",
            "Epoch 54/100\n",
            "125/125 [==============================] - 50s 399ms/step - loss: 0.2511 - accuracy: 0.9244 - val_loss: 0.4460 - val_accuracy: 0.8756\n",
            "Epoch 55/100\n",
            "125/125 [==============================] - 51s 405ms/step - loss: 0.2478 - accuracy: 0.9256 - val_loss: 0.4431 - val_accuracy: 0.8760\n",
            "Epoch 56/100\n",
            "125/125 [==============================] - 49s 390ms/step - loss: 0.2442 - accuracy: 0.9267 - val_loss: 0.4427 - val_accuracy: 0.8763\n",
            "Epoch 57/100\n",
            "125/125 [==============================] - 52s 416ms/step - loss: 0.2407 - accuracy: 0.9277 - val_loss: 0.4475 - val_accuracy: 0.8757\n",
            "Epoch 58/100\n",
            "125/125 [==============================] - 49s 395ms/step - loss: 0.2377 - accuracy: 0.9288 - val_loss: 0.4480 - val_accuracy: 0.8750\n",
            "Epoch 59/100\n",
            "125/125 [==============================] - 52s 412ms/step - loss: 0.2343 - accuracy: 0.9297 - val_loss: 0.4498 - val_accuracy: 0.8756\n",
            "Epoch 60/100\n",
            "125/125 [==============================] - 50s 398ms/step - loss: 0.2311 - accuracy: 0.9305 - val_loss: 0.4489 - val_accuracy: 0.8751\n",
            "Epoch 61/100\n",
            "125/125 [==============================] - 51s 404ms/step - loss: 0.2281 - accuracy: 0.9314 - val_loss: 0.4493 - val_accuracy: 0.8761\n",
            "Epoch 62/100\n",
            "125/125 [==============================] - 50s 400ms/step - loss: 0.2247 - accuracy: 0.9321 - val_loss: 0.4513 - val_accuracy: 0.8765\n",
            "Epoch 63/100\n",
            "125/125 [==============================] - 48s 385ms/step - loss: 0.2214 - accuracy: 0.9332 - val_loss: 0.4536 - val_accuracy: 0.8763\n",
            "Epoch 64/100\n",
            "125/125 [==============================] - 50s 397ms/step - loss: 0.2187 - accuracy: 0.9338 - val_loss: 0.4521 - val_accuracy: 0.8766\n",
            "Epoch 65/100\n",
            "125/125 [==============================] - 48s 384ms/step - loss: 0.2159 - accuracy: 0.9349 - val_loss: 0.4569 - val_accuracy: 0.8763\n",
            "Epoch 66/100\n",
            "125/125 [==============================] - 50s 399ms/step - loss: 0.2127 - accuracy: 0.9358 - val_loss: 0.4546 - val_accuracy: 0.8769\n",
            "Epoch 67/100\n",
            "125/125 [==============================] - 50s 397ms/step - loss: 0.2097 - accuracy: 0.9369 - val_loss: 0.4581 - val_accuracy: 0.8762\n",
            "Epoch 68/100\n",
            "125/125 [==============================] - 49s 395ms/step - loss: 0.2064 - accuracy: 0.9379 - val_loss: 0.4625 - val_accuracy: 0.8760\n",
            "Epoch 69/100\n",
            "125/125 [==============================] - 50s 398ms/step - loss: 0.2036 - accuracy: 0.9386 - val_loss: 0.4623 - val_accuracy: 0.8766\n",
            "Epoch 70/100\n",
            "125/125 [==============================] - 50s 399ms/step - loss: 0.2009 - accuracy: 0.9397 - val_loss: 0.4643 - val_accuracy: 0.8764\n",
            "Epoch 71/100\n",
            "125/125 [==============================] - 51s 407ms/step - loss: 0.1984 - accuracy: 0.9402 - val_loss: 0.4657 - val_accuracy: 0.8770\n",
            "Epoch 72/100\n",
            "125/125 [==============================] - 56s 445ms/step - loss: 0.1956 - accuracy: 0.9410 - val_loss: 0.4691 - val_accuracy: 0.8756\n",
            "Epoch 73/100\n",
            "125/125 [==============================] - 50s 405ms/step - loss: 0.1926 - accuracy: 0.9418 - val_loss: 0.4688 - val_accuracy: 0.8764\n",
            "Epoch 74/100\n",
            "125/125 [==============================] - 50s 398ms/step - loss: 0.1903 - accuracy: 0.9425 - val_loss: 0.4722 - val_accuracy: 0.8761\n",
            "Epoch 75/100\n",
            "125/125 [==============================] - 50s 400ms/step - loss: 0.1875 - accuracy: 0.9437 - val_loss: 0.4747 - val_accuracy: 0.8756\n",
            "Epoch 76/100\n",
            "125/125 [==============================] - 49s 394ms/step - loss: 0.1847 - accuracy: 0.9441 - val_loss: 0.4740 - val_accuracy: 0.8773\n",
            "Epoch 77/100\n",
            "125/125 [==============================] - 50s 402ms/step - loss: 0.1827 - accuracy: 0.9449 - val_loss: 0.4772 - val_accuracy: 0.8761\n",
            "Epoch 78/100\n",
            "125/125 [==============================] - 49s 388ms/step - loss: 0.1803 - accuracy: 0.9454 - val_loss: 0.4792 - val_accuracy: 0.8767\n",
            "Epoch 79/100\n",
            "125/125 [==============================] - 50s 399ms/step - loss: 0.1777 - accuracy: 0.9462 - val_loss: 0.4843 - val_accuracy: 0.8753\n",
            "Epoch 80/100\n",
            "125/125 [==============================] - 50s 398ms/step - loss: 0.1755 - accuracy: 0.9470 - val_loss: 0.4796 - val_accuracy: 0.8768\n",
            "Epoch 81/100\n",
            "125/125 [==============================] - 49s 395ms/step - loss: 0.1727 - accuracy: 0.9480 - val_loss: 0.4865 - val_accuracy: 0.8757\n",
            "Epoch 82/100\n",
            "125/125 [==============================] - 49s 388ms/step - loss: 0.1705 - accuracy: 0.9485 - val_loss: 0.4872 - val_accuracy: 0.8761\n",
            "Epoch 83/100\n",
            "125/125 [==============================] - 49s 396ms/step - loss: 0.1681 - accuracy: 0.9493 - val_loss: 0.4899 - val_accuracy: 0.8756\n",
            "Epoch 84/100\n",
            "125/125 [==============================] - 48s 381ms/step - loss: 0.1662 - accuracy: 0.9498 - val_loss: 0.4951 - val_accuracy: 0.8748\n",
            "Epoch 85/100\n",
            "125/125 [==============================] - 49s 393ms/step - loss: 0.1637 - accuracy: 0.9506 - val_loss: 0.4941 - val_accuracy: 0.8764\n",
            "Epoch 86/100\n",
            "125/125 [==============================] - 49s 387ms/step - loss: 0.1615 - accuracy: 0.9512 - val_loss: 0.4976 - val_accuracy: 0.8760\n",
            "Epoch 87/100\n",
            "125/125 [==============================] - 49s 397ms/step - loss: 0.1594 - accuracy: 0.9515 - val_loss: 0.4996 - val_accuracy: 0.8763\n",
            "Epoch 88/100\n",
            "125/125 [==============================] - 50s 401ms/step - loss: 0.1571 - accuracy: 0.9523 - val_loss: 0.5029 - val_accuracy: 0.8760\n",
            "Epoch 89/100\n",
            "125/125 [==============================] - 49s 396ms/step - loss: 0.1547 - accuracy: 0.9529 - val_loss: 0.5064 - val_accuracy: 0.8757\n",
            "Epoch 90/100\n",
            "125/125 [==============================] - 50s 398ms/step - loss: 0.1531 - accuracy: 0.9537 - val_loss: 0.5111 - val_accuracy: 0.8761\n",
            "Epoch 91/100\n",
            "125/125 [==============================] - 48s 384ms/step - loss: 0.1509 - accuracy: 0.9541 - val_loss: 0.5103 - val_accuracy: 0.8753\n",
            "Epoch 92/100\n",
            "125/125 [==============================] - 50s 398ms/step - loss: 0.1489 - accuracy: 0.9549 - val_loss: 0.5113 - val_accuracy: 0.8754\n",
            "Epoch 93/100\n",
            "125/125 [==============================] - 47s 380ms/step - loss: 0.1467 - accuracy: 0.9553 - val_loss: 0.5139 - val_accuracy: 0.8752\n",
            "Epoch 94/100\n",
            "125/125 [==============================] - 49s 392ms/step - loss: 0.1452 - accuracy: 0.9560 - val_loss: 0.5196 - val_accuracy: 0.8761\n",
            "Epoch 95/100\n",
            "125/125 [==============================] - 48s 382ms/step - loss: 0.1430 - accuracy: 0.9565 - val_loss: 0.5184 - val_accuracy: 0.8757\n",
            "Epoch 96/100\n",
            "125/125 [==============================] - 49s 396ms/step - loss: 0.1408 - accuracy: 0.9572 - val_loss: 0.5237 - val_accuracy: 0.8749\n",
            "Epoch 97/100\n",
            "125/125 [==============================] - 49s 395ms/step - loss: 0.1391 - accuracy: 0.9576 - val_loss: 0.5248 - val_accuracy: 0.8758\n",
            "Epoch 98/100\n",
            "125/125 [==============================] - 49s 390ms/step - loss: 0.1375 - accuracy: 0.9582 - val_loss: 0.5280 - val_accuracy: 0.8747\n",
            "Epoch 99/100\n",
            "125/125 [==============================] - 48s 381ms/step - loss: 0.1361 - accuracy: 0.9586 - val_loss: 0.5301 - val_accuracy: 0.8753\n",
            "Epoch 100/100\n",
            "125/125 [==============================] - 49s 391ms/step - loss: 0.1339 - accuracy: 0.9592 - val_loss: 0.5309 - val_accuracy: 0.8766\n"
          ]
        }
      ]
    },
    {
      "cell_type": "markdown",
      "source": [
        "## Running Inference(Sampling)\n",
        "\n",
        "- encode input and retrieve initial decoder state\n",
        "- run one step of decoder with this initial state and a \"start of sequence\" token as target. Output will be the next target token.\n",
        "- Repeat with the current target token and current states"
      ],
      "metadata": {
        "id": "LlUXLxHLtfUN"
      }
    },
    {
      "cell_type": "code",
      "source": [
        "# Define sampling models\n",
        "# Restore the model and construct the encoder and decoder.\n",
        "model = keras.models.load_model(\"s2s_model.keras\")\n",
        "\n",
        "encoder_inputs = model.input[0]  # input_1\n",
        "encoder_outputs, state_h_enc, state_c_enc = model.layers[2].output  # lstm_1\n",
        "encoder_states = [state_h_enc, state_c_enc]\n",
        "encoder_model = keras.Model(encoder_inputs, encoder_states)\n",
        "\n",
        "decoder_inputs = model.input[1]  # input_2\n",
        "decoder_state_input_h = keras.Input(shape=(latent_dim,))\n",
        "decoder_state_input_c = keras.Input(shape=(latent_dim,))\n",
        "decoder_states_inputs = [decoder_state_input_h, decoder_state_input_c]\n",
        "decoder_lstm = model.layers[3]\n",
        "decoder_outputs, state_h_dec, state_c_dec = decoder_lstm(\n",
        "    decoder_inputs, initial_state=decoder_states_inputs\n",
        ")\n",
        "decoder_states = [state_h_dec, state_c_dec]\n",
        "decoder_dense = model.layers[4]\n",
        "decoder_outputs = decoder_dense(decoder_outputs)\n",
        "decoder_model = keras.Model(\n",
        "    [decoder_inputs] + decoder_states_inputs, [decoder_outputs] + decoder_states\n",
        ")\n",
        "\n",
        "# Reverse-lookup token index to decode sequences back to\n",
        "# something readable.\n",
        "reverse_input_char_index = dict((i, char) for char, i in input_token_index.items())\n",
        "reverse_target_char_index = dict((i, char) for char, i in target_token_index.items())\n",
        "\n",
        "\n",
        "def decode_sequence(input_seq):\n",
        "    # Encode the input as state vectors.\n",
        "    states_value = encoder_model.predict(input_seq, verbose=0)\n",
        "\n",
        "    # Generate empty target sequence of length 1.\n",
        "    target_seq = np.zeros((1, 1, num_decoder_tokens))\n",
        "    # Populate the first character of target sequence with the start character.\n",
        "    target_seq[0, 0, target_token_index[\"\\t\"]] = 1.0\n",
        "\n",
        "    # Sampling loop for a batch of sequences\n",
        "    # (to simplify, here we assume a batch of size 1).\n",
        "    stop_condition = False\n",
        "    decoded_sentence = \"\"\n",
        "    while not stop_condition:\n",
        "        output_tokens, h, c = decoder_model.predict(\n",
        "            [target_seq] + states_value, verbose=0\n",
        "        )\n",
        "\n",
        "        # Sample a token\n",
        "        sampled_token_index = np.argmax(output_tokens[0, -1, :])\n",
        "        sampled_char = reverse_target_char_index[sampled_token_index]\n",
        "        decoded_sentence += sampled_char\n",
        "\n",
        "        # Exit condition: either hit max length\n",
        "        # or find stop character.\n",
        "        if sampled_char == \"\\n\" or len(decoded_sentence) > max_decoder_seq_length:\n",
        "            stop_condition = True\n",
        "\n",
        "        # Update the target sequence (of length 1).\n",
        "        target_seq = np.zeros((1, 1, num_decoder_tokens))\n",
        "        target_seq[0, 0, sampled_token_index] = 1.0\n",
        "\n",
        "        # Update states\n",
        "        states_value = [h, c]\n",
        "    return decoded_sentence"
      ],
      "metadata": {
        "id": "EhRg9rQRnng6"
      },
      "execution_count": 12,
      "outputs": []
    },
    {
      "cell_type": "markdown",
      "source": [
        "You can now generate decoded sentences as such:\n",
        "\n"
      ],
      "metadata": {
        "id": "HfML-MMKtxz2"
      }
    },
    {
      "cell_type": "code",
      "source": [
        "for seq_index in range(20):\n",
        "    # Take one sequence (part of the training set)\n",
        "    # for trying out decoding.\n",
        "    input_seq = encoder_input_data[seq_index : seq_index + 1]\n",
        "    decoded_sentence = decode_sequence(input_seq)\n",
        "    print(\"-\")\n",
        "    print(\"Input sentence:\", input_texts[seq_index])\n",
        "    print(\"Decoded sentence:\", decoded_sentence)"
      ],
      "metadata": {
        "colab": {
          "base_uri": "https://localhost:8080/"
        },
        "id": "d7Hmexv-te7y",
        "outputId": "b25026b1-ea4b-4df4-fbe2-34ec10a57597"
      },
      "execution_count": 13,
      "outputs": [
        {
          "output_type": "stream",
          "name": "stdout",
          "text": [
            "-\n",
            "Input sentence: Go.\n",
            "Decoded sentence: Va !\n",
            "\n",
            "-\n",
            "Input sentence: Go.\n",
            "Decoded sentence: Va !\n",
            "\n",
            "-\n",
            "Input sentence: Go.\n",
            "Decoded sentence: Va !\n",
            "\n",
            "-\n",
            "Input sentence: Go.\n",
            "Decoded sentence: Va !\n",
            "\n",
            "-\n",
            "Input sentence: Hi.\n",
            "Decoded sentence: Salut.\n",
            "\n",
            "-\n",
            "Input sentence: Hi.\n",
            "Decoded sentence: Salut.\n",
            "\n",
            "-\n",
            "Input sentence: Run!\n",
            "Decoded sentence: File !\n",
            "\n",
            "-\n",
            "Input sentence: Run!\n",
            "Decoded sentence: File !\n",
            "\n",
            "-\n",
            "Input sentence: Run!\n",
            "Decoded sentence: File !\n",
            "\n",
            "-\n",
            "Input sentence: Run!\n",
            "Decoded sentence: File !\n",
            "\n",
            "-\n",
            "Input sentence: Run!\n",
            "Decoded sentence: File !\n",
            "\n",
            "-\n",
            "Input sentence: Run!\n",
            "Decoded sentence: File !\n",
            "\n",
            "-\n",
            "Input sentence: Run!\n",
            "Decoded sentence: File !\n",
            "\n",
            "-\n",
            "Input sentence: Run!\n",
            "Decoded sentence: File !\n",
            "\n",
            "-\n",
            "Input sentence: Run.\n",
            "Decoded sentence: Filez !\n",
            "\n",
            "-\n",
            "Input sentence: Run.\n",
            "Decoded sentence: Filez !\n",
            "\n",
            "-\n",
            "Input sentence: Run.\n",
            "Decoded sentence: Filez !\n",
            "\n",
            "-\n",
            "Input sentence: Run.\n",
            "Decoded sentence: Filez !\n",
            "\n",
            "-\n",
            "Input sentence: Run.\n",
            "Decoded sentence: Filez !\n",
            "\n",
            "-\n",
            "Input sentence: Run.\n",
            "Decoded sentence: Filez !\n",
            "\n"
          ]
        }
      ]
    },
    {
      "cell_type": "code",
      "source": [],
      "metadata": {
        "id": "LCqXsAl9tezz"
      },
      "execution_count": null,
      "outputs": []
    }
  ]
}